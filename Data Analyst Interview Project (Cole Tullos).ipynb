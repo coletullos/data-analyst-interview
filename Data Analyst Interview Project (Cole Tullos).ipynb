{
 "cells": [
  {
   "cell_type": "markdown",
   "metadata": {},
   "source": [
    "## Data Analyst Interview Project\n",
    "### Author: Cole Tullos\n",
    "\n",
    "This code was written to meet the requirements of the ConnectWise Analytics Team based in Raleigh, NC\n",
    "\n",
    "The purpose of this python analysis is to read in a csv file containg data on building permits in\n",
    "Raleigh and perform some basic operations"
   ]
  },
  {
   "cell_type": "code",
   "execution_count": 91,
   "metadata": {},
   "outputs": [],
   "source": [
    "#import necessary libraries\n",
    "\n",
    "import numpy as np\n",
    "import statsmodels.api as sm\n",
    "import pandas as pd\n",
    "from urllib.request import urlretrieve\n",
    "import matplotlib.pyplot as plt"
   ]
  },
  {
   "cell_type": "markdown",
   "metadata": {},
   "source": [
    "#### The code cell above makes all of the necessary imports that this program will use for analysis"
   ]
  },
  {
   "cell_type": "code",
   "execution_count": 92,
   "metadata": {},
   "outputs": [],
   "source": [
    "#get the file via web request\n",
    "url = \"https://s3.amazonaws.com/cc-analytics-datasets/Building_Permits.csv\"\n",
    "urlretrieve(url, \"Building_Permits.csv\")\n",
    "\n",
    "#read the csv as a pandas data frame (use the low_memory flag to avoid mixed type error)\n",
    "df = pd.read_csv(\"Building_Permits.csv\", sep=\",\", low_memory=False)"
   ]
  },
  {
   "cell_type": "markdown",
   "metadata": {},
   "source": [
    "#### This code block gets the URL for the csv file and reads it into a pandas data frame. This step is important to insure reproducability in the code."
   ]
  },
  {
   "cell_type": "code",
   "execution_count": 93,
   "metadata": {},
   "outputs": [
    {
     "name": "stdout",
     "output_type": "stream",
     "text": [
      "(141953, 87)\n",
      "19\n",
      "9.707420656310743\n",
      "2.0\n"
     ]
    }
   ],
   "source": [
    "#Get the summaries asked for specifically\n",
    "print(df.shape)\n",
    "print(df[\"const_type\"].unique().size)\n",
    "print(df[\"numberstories\"].mean())\n",
    "print(df[\"numberstories\"].median())"
   ]
  },
  {
   "cell_type": "markdown",
   "metadata": {},
   "source": [
    "#### The block above prints out the important statistics asked for specifically by the ConnectWise Team.\n",
    "\n",
    "    - The data frame has 141,953 rows and 87 columns.\n",
    "    - There are 19 unique values/tags for construction type, however one of these is the null value, so \n",
    "      in reality there 18 classifications of construction type.\n",
    "    - The mean number of stories for a building is 9.71, but the median value is 2. This tells us that\n",
    "      there are significant outliers in the numberstories column that cause the mean to be unrepresentative."
   ]
  },
  {
   "cell_type": "code",
   "execution_count": 94,
   "metadata": {},
   "outputs": [
    {
     "data": {
      "text/html": [
       "<div>\n",
       "<style scoped>\n",
       "    .dataframe tbody tr th:only-of-type {\n",
       "        vertical-align: middle;\n",
       "    }\n",
       "\n",
       "    .dataframe tbody tr th {\n",
       "        vertical-align: top;\n",
       "    }\n",
       "\n",
       "    .dataframe thead th {\n",
       "        text-align: right;\n",
       "    }\n",
       "</style>\n",
       "<table border=\"1\" class=\"dataframe\">\n",
       "  <thead>\n",
       "    <tr style=\"text-align: right;\">\n",
       "      <th></th>\n",
       "      <th>X</th>\n",
       "      <th>Y</th>\n",
       "      <th>OBJECTID</th>\n",
       "      <th>permitnum</th>\n",
       "      <th>permitclass</th>\n",
       "      <th>estprojectcost</th>\n",
       "      <th>censuslandusecode</th>\n",
       "      <th>devplanid</th>\n",
       "      <th>cocnbr</th>\n",
       "      <th>contractorlicnum</th>\n",
       "      <th>...</th>\n",
       "      <th>housingunitstotal</th>\n",
       "      <th>housingunitsexist</th>\n",
       "      <th>issueddate_mth</th>\n",
       "      <th>issueddate_yr</th>\n",
       "      <th>landusenewuse</th>\n",
       "      <th>latitude_perm</th>\n",
       "      <th>longitude_perm</th>\n",
       "      <th>numberstories</th>\n",
       "      <th>parc_open_space_zone_fee</th>\n",
       "      <th>totalsqft</th>\n",
       "    </tr>\n",
       "  </thead>\n",
       "  <tbody>\n",
       "    <tr>\n",
       "      <th>count</th>\n",
       "      <td>141830.000000</td>\n",
       "      <td>141830.000000</td>\n",
       "      <td>141953.000000</td>\n",
       "      <td>141953.000000</td>\n",
       "      <td>135408.000000</td>\n",
       "      <td>1.419530e+05</td>\n",
       "      <td>135408.000000</td>\n",
       "      <td>127287.000000</td>\n",
       "      <td>2648.000000</td>\n",
       "      <td>122764.000000</td>\n",
       "      <td>...</td>\n",
       "      <td>118563.000000</td>\n",
       "      <td>77393.000000</td>\n",
       "      <td>138519.000000</td>\n",
       "      <td>138519.000000</td>\n",
       "      <td>135722.000000</td>\n",
       "      <td>141830.000000</td>\n",
       "      <td>141830.000000</td>\n",
       "      <td>122442.000000</td>\n",
       "      <td>141949.000000</td>\n",
       "      <td>1.367010e+05</td>\n",
       "    </tr>\n",
       "    <tr>\n",
       "      <th>mean</th>\n",
       "      <td>-78.635798</td>\n",
       "      <td>35.835300</td>\n",
       "      <td>118523.386424</td>\n",
       "      <td>76731.876318</td>\n",
       "      <td>322.068305</td>\n",
       "      <td>1.920127e+05</td>\n",
       "      <td>322.068305</td>\n",
       "      <td>4710.210846</td>\n",
       "      <td>4472.450906</td>\n",
       "      <td>5888.122658</td>\n",
       "      <td>...</td>\n",
       "      <td>2.590707</td>\n",
       "      <td>10.145892</td>\n",
       "      <td>6.407078</td>\n",
       "      <td>2008.795176</td>\n",
       "      <td>262.722875</td>\n",
       "      <td>35.835300</td>\n",
       "      <td>-78.635798</td>\n",
       "      <td>9.707421</td>\n",
       "      <td>2.458552</td>\n",
       "      <td>2.744957e+03</td>\n",
       "    </tr>\n",
       "    <tr>\n",
       "      <th>std</th>\n",
       "      <td>0.068805</td>\n",
       "      <td>0.058392</td>\n",
       "      <td>41024.499284</td>\n",
       "      <td>43864.317257</td>\n",
       "      <td>171.086230</td>\n",
       "      <td>1.493678e+06</td>\n",
       "      <td>171.086230</td>\n",
       "      <td>4467.329704</td>\n",
       "      <td>3646.687083</td>\n",
       "      <td>6006.855697</td>\n",
       "      <td>...</td>\n",
       "      <td>205.286034</td>\n",
       "      <td>46.431197</td>\n",
       "      <td>3.245976</td>\n",
       "      <td>5.486947</td>\n",
       "      <td>281.665535</td>\n",
       "      <td>0.058392</td>\n",
       "      <td>0.068805</td>\n",
       "      <td>1114.892012</td>\n",
       "      <td>1.182591</td>\n",
       "      <td>2.160001e+04</td>\n",
       "    </tr>\n",
       "    <tr>\n",
       "      <th>min</th>\n",
       "      <td>-78.816616</td>\n",
       "      <td>33.956035</td>\n",
       "      <td>47520.000000</td>\n",
       "      <td>5.000000</td>\n",
       "      <td>100.000000</td>\n",
       "      <td>0.000000e+00</td>\n",
       "      <td>100.000000</td>\n",
       "      <td>0.000000</td>\n",
       "      <td>0.000000</td>\n",
       "      <td>2.000000</td>\n",
       "      <td>...</td>\n",
       "      <td>0.000000</td>\n",
       "      <td>0.000000</td>\n",
       "      <td>1.000000</td>\n",
       "      <td>2000.000000</td>\n",
       "      <td>0.000000</td>\n",
       "      <td>33.956035</td>\n",
       "      <td>-78.816616</td>\n",
       "      <td>0.000000</td>\n",
       "      <td>0.000000</td>\n",
       "      <td>0.000000e+00</td>\n",
       "    </tr>\n",
       "    <tr>\n",
       "      <th>25%</th>\n",
       "      <td>-78.681172</td>\n",
       "      <td>35.788197</td>\n",
       "      <td>83008.000000</td>\n",
       "      <td>38924.000000</td>\n",
       "      <td>102.000000</td>\n",
       "      <td>1.000000e+04</td>\n",
       "      <td>102.000000</td>\n",
       "      <td>0.000000</td>\n",
       "      <td>1692.500000</td>\n",
       "      <td>907.000000</td>\n",
       "      <td>...</td>\n",
       "      <td>1.000000</td>\n",
       "      <td>0.000000</td>\n",
       "      <td>4.000000</td>\n",
       "      <td>2004.000000</td>\n",
       "      <td>110.000000</td>\n",
       "      <td>35.788197</td>\n",
       "      <td>-78.681172</td>\n",
       "      <td>1.000000</td>\n",
       "      <td>1.000000</td>\n",
       "      <td>1.400000e+02</td>\n",
       "    </tr>\n",
       "    <tr>\n",
       "      <th>50%</th>\n",
       "      <td>-78.637151</td>\n",
       "      <td>35.834122</td>\n",
       "      <td>118496.000000</td>\n",
       "      <td>76739.000000</td>\n",
       "      <td>434.000000</td>\n",
       "      <td>5.440400e+04</td>\n",
       "      <td>434.000000</td>\n",
       "      <td>5528.000000</td>\n",
       "      <td>3334.500000</td>\n",
       "      <td>3189.000000</td>\n",
       "      <td>...</td>\n",
       "      <td>1.000000</td>\n",
       "      <td>1.000000</td>\n",
       "      <td>6.000000</td>\n",
       "      <td>2008.000000</td>\n",
       "      <td>110.000000</td>\n",
       "      <td>35.834122</td>\n",
       "      <td>-78.637151</td>\n",
       "      <td>2.000000</td>\n",
       "      <td>2.000000</td>\n",
       "      <td>1.139000e+03</td>\n",
       "    </tr>\n",
       "    <tr>\n",
       "      <th>75%</th>\n",
       "      <td>-78.577937</td>\n",
       "      <td>35.885177</td>\n",
       "      <td>153984.000000</td>\n",
       "      <td>114674.000000</td>\n",
       "      <td>434.000000</td>\n",
       "      <td>1.350000e+05</td>\n",
       "      <td>434.000000</td>\n",
       "      <td>7581.000000</td>\n",
       "      <td>6917.500000</td>\n",
       "      <td>9869.000000</td>\n",
       "      <td>...</td>\n",
       "      <td>1.000000</td>\n",
       "      <td>1.000000</td>\n",
       "      <td>9.000000</td>\n",
       "      <td>2014.000000</td>\n",
       "      <td>153.000000</td>\n",
       "      <td>35.885177</td>\n",
       "      <td>-78.577937</td>\n",
       "      <td>2.000000</td>\n",
       "      <td>4.000000</td>\n",
       "      <td>2.433000e+03</td>\n",
       "    </tr>\n",
       "    <tr>\n",
       "      <th>max</th>\n",
       "      <td>-78.490945</td>\n",
       "      <td>35.970246</td>\n",
       "      <td>190277.000000</td>\n",
       "      <td>152586.000000</td>\n",
       "      <td>649.000000</td>\n",
       "      <td>1.700000e+08</td>\n",
       "      <td>649.000000</td>\n",
       "      <td>22611.000000</td>\n",
       "      <td>22034.000000</td>\n",
       "      <td>23356.000000</td>\n",
       "      <td>...</td>\n",
       "      <td>70000.000000</td>\n",
       "      <td>940.000000</td>\n",
       "      <td>12.000000</td>\n",
       "      <td>2018.000000</td>\n",
       "      <td>991.000000</td>\n",
       "      <td>35.970246</td>\n",
       "      <td>-78.490945</td>\n",
       "      <td>342365.000000</td>\n",
       "      <td>4.000000</td>\n",
       "      <td>6.627080e+06</td>\n",
       "    </tr>\n",
       "  </tbody>\n",
       "</table>\n",
       "<p>8 rows × 24 columns</p>\n",
       "</div>"
      ],
      "text/plain": [
       "                   X              Y       OBJECTID      permitnum  \\\n",
       "count  141830.000000  141830.000000  141953.000000  141953.000000   \n",
       "mean      -78.635798      35.835300  118523.386424   76731.876318   \n",
       "std         0.068805       0.058392   41024.499284   43864.317257   \n",
       "min       -78.816616      33.956035   47520.000000       5.000000   \n",
       "25%       -78.681172      35.788197   83008.000000   38924.000000   \n",
       "50%       -78.637151      35.834122  118496.000000   76739.000000   \n",
       "75%       -78.577937      35.885177  153984.000000  114674.000000   \n",
       "max       -78.490945      35.970246  190277.000000  152586.000000   \n",
       "\n",
       "         permitclass  estprojectcost  censuslandusecode      devplanid  \\\n",
       "count  135408.000000    1.419530e+05      135408.000000  127287.000000   \n",
       "mean      322.068305    1.920127e+05         322.068305    4710.210846   \n",
       "std       171.086230    1.493678e+06         171.086230    4467.329704   \n",
       "min       100.000000    0.000000e+00         100.000000       0.000000   \n",
       "25%       102.000000    1.000000e+04         102.000000       0.000000   \n",
       "50%       434.000000    5.440400e+04         434.000000    5528.000000   \n",
       "75%       434.000000    1.350000e+05         434.000000    7581.000000   \n",
       "max       649.000000    1.700000e+08         649.000000   22611.000000   \n",
       "\n",
       "             cocnbr  contractorlicnum      ...       housingunitstotal  \\\n",
       "count   2648.000000     122764.000000      ...           118563.000000   \n",
       "mean    4472.450906       5888.122658      ...                2.590707   \n",
       "std     3646.687083       6006.855697      ...              205.286034   \n",
       "min        0.000000          2.000000      ...                0.000000   \n",
       "25%     1692.500000        907.000000      ...                1.000000   \n",
       "50%     3334.500000       3189.000000      ...                1.000000   \n",
       "75%     6917.500000       9869.000000      ...                1.000000   \n",
       "max    22034.000000      23356.000000      ...            70000.000000   \n",
       "\n",
       "       housingunitsexist  issueddate_mth  issueddate_yr  landusenewuse  \\\n",
       "count       77393.000000   138519.000000  138519.000000  135722.000000   \n",
       "mean           10.145892        6.407078    2008.795176     262.722875   \n",
       "std            46.431197        3.245976       5.486947     281.665535   \n",
       "min             0.000000        1.000000    2000.000000       0.000000   \n",
       "25%             0.000000        4.000000    2004.000000     110.000000   \n",
       "50%             1.000000        6.000000    2008.000000     110.000000   \n",
       "75%             1.000000        9.000000    2014.000000     153.000000   \n",
       "max           940.000000       12.000000    2018.000000     991.000000   \n",
       "\n",
       "       latitude_perm  longitude_perm  numberstories  parc_open_space_zone_fee  \\\n",
       "count  141830.000000   141830.000000  122442.000000             141949.000000   \n",
       "mean       35.835300      -78.635798       9.707421                  2.458552   \n",
       "std         0.058392        0.068805    1114.892012                  1.182591   \n",
       "min        33.956035      -78.816616       0.000000                  0.000000   \n",
       "25%        35.788197      -78.681172       1.000000                  1.000000   \n",
       "50%        35.834122      -78.637151       2.000000                  2.000000   \n",
       "75%        35.885177      -78.577937       2.000000                  4.000000   \n",
       "max        35.970246      -78.490945  342365.000000                  4.000000   \n",
       "\n",
       "          totalsqft  \n",
       "count  1.367010e+05  \n",
       "mean   2.744957e+03  \n",
       "std    2.160001e+04  \n",
       "min    0.000000e+00  \n",
       "25%    1.400000e+02  \n",
       "50%    1.139000e+03  \n",
       "75%    2.433000e+03  \n",
       "max    6.627080e+06  \n",
       "\n",
       "[8 rows x 24 columns]"
      ]
     },
     "execution_count": 94,
     "metadata": {},
     "output_type": "execute_result"
    }
   ],
   "source": [
    "#Have the dataframe output the summary statistics\n",
    "df.describe()"
   ]
  },
  {
   "cell_type": "markdown",
   "metadata": {},
   "source": [
    "#### This block outputs the more general summary statistics, the team specifically requested the standard deviation for the X and Y varaibles, which are given as 0.068805 and 0.058392 respectively. This small deviation is to be expected considering the data is localized to the Raleigh area. Another surprising statistic to me is the significant difference between the median value and mean value for estprojectcost. Additionally, this output confirms that the numberstories feature is highly skewed due to a maximum value of 342,365. Considering the tallest building in the world has 163 stories, I believe it is safe to assume this value was misreported."
   ]
  },
  {
   "cell_type": "code",
   "execution_count": 95,
   "metadata": {},
   "outputs": [
    {
     "data": {
      "image/png": "[encoded data removed]",
      "text/plain": [
       "<Figure size 432x288 with 1 Axes>"
      ]
     },
     "metadata": {
      "needs_background": "light"
     },
     "output_type": "display_data"
    },
    {
     "data": {
      "image/png": "[encoded data removed]",
      "text/plain": [
       "<Figure size 432x288 with 1 Axes>"
      ]
     },
     "metadata": {
      "needs_background": "light"
     },
     "output_type": "display_data"
    }
   ],
   "source": [
    "#Plot distributions for Estimated Project Cost and Issue Date Month\n",
    "issue = df.hist(column=\"issueddate_mth\", bins=12)\n",
    "cost = df.hist(column=\"estprojectcost\", bins=50)"
   ]
  },
  {
   "cell_type": "markdown",
   "metadata": {},
   "source": [
    "#### The plots above show the distributions of the issueddate_mth and estprojectcost features. The issueddate_mth data shows a mostly normal distribution, with a clear peak near the summer and a dip in the winter. I initially thought this was odd, expceting a mostly constant distribution across the year. The estprojectcost distribution is far less normal, we can see that this feature clearly suffers from large outliers, supporting my assumption from looking at the summary statistics."
   ]
  },
  {
   "cell_type": "code",
   "execution_count": 96,
   "metadata": {},
   "outputs": [],
   "source": [
    "#First, Filter data for the specified valuesv(const_type = \"V  B\" and worclassmap = \"New\")\n",
    "exp_df = df[np.logical_and(df[\"const_type\"] == \"V  B\", df[\"workclassmapped\"] == \"New\")]\n",
    "exp_df = exp_df[exp_df[\"numberstories\"] <= 3]\n",
    "\n",
    "#next, filter data for missing values\n",
    "exp_df = exp_df[np.logical_and(exp_df[\"estprojectcost\"].notnull(), exp_df[\"issueddate_yr\"].notnull())]\n",
    "\n",
    "#sepperate the experimental dataframe into dependent and independent variable\n",
    "dep = exp_df[\"estprojectcost\"]\n",
    "ind = exp_df[\"issueddate_yr\"]"
   ]
  },
  {
   "cell_type": "markdown",
   "metadata": {},
   "source": [
    "#### In this block of code, we prepare to perform a linear regression on an experimental subset of the data. First, the data frame is filtered for the specific values requested, then the rows with null values in the features of focus are removed. This step was necesary to perform a proper OLS regression."
   ]
  },
  {
   "cell_type": "code",
   "execution_count": 97,
   "metadata": {},
   "outputs": [
    {
     "data": {
      "image/png": "[encoded data removed]",
      "text/plain": [
       "<Figure size 432x288 with 1 Axes>"
      ]
     },
     "metadata": {
      "needs_background": "light"
     },
     "output_type": "display_data"
    }
   ],
   "source": [
    "plt.scatter(ind,dep)\n",
    "plt.show()"
   ]
  },
  {
   "cell_type": "markdown",
   "metadata": {},
   "source": [
    "#### Although it was not specifically asked for, I find it easier to visualize a relationship between two variables when plotted on a scatter plot. This plot was wildly skewed due to one observation being a significant outlier, which will have an effect on our final model."
   ]
  },
  {
   "cell_type": "code",
   "execution_count": 98,
   "metadata": {
    "scrolled": false
   },
   "outputs": [
    {
     "data": {
      "text/html": [
       "<table class=\"simpletable\">\n",
       "<caption>OLS Regression Results</caption>\n",
       "<tr>\n",
       "  <th>Dep. Variable:</th>     <td>estprojectcost</td>  <th>  R-squared:         </th>  <td>   0.005</td>  \n",
       "</tr>\n",
       "<tr>\n",
       "  <th>Model:</th>                   <td>OLS</td>       <th>  Adj. R-squared:    </th>  <td>   0.005</td>  \n",
       "</tr>\n",
       "<tr>\n",
       "  <th>Method:</th>             <td>Least Squares</td>  <th>  F-statistic:       </th>  <td>   179.5</td>  \n",
       "</tr>\n",
       "<tr>\n",
       "  <th>Date:</th>             <td>Wed, 28 Nov 2018</td> <th>  Prob (F-statistic):</th>  <td>7.93e-41</td>  \n",
       "</tr>\n",
       "<tr>\n",
       "  <th>Time:</th>                 <td>07:48:19</td>     <th>  Log-Likelihood:    </th> <td>-5.3185e+05</td>\n",
       "</tr>\n",
       "<tr>\n",
       "  <th>No. Observations:</th>      <td> 35491</td>      <th>  AIC:               </th>  <td>1.064e+06</td> \n",
       "</tr>\n",
       "<tr>\n",
       "  <th>Df Residuals:</th>          <td> 35489</td>      <th>  BIC:               </th>  <td>1.064e+06</td> \n",
       "</tr>\n",
       "<tr>\n",
       "  <th>Df Model:</th>              <td>     1</td>      <th>                     </th>      <td> </td>     \n",
       "</tr>\n",
       "<tr>\n",
       "  <th>Covariance Type:</th>      <td>nonrobust</td>    <th>                     </th>      <td> </td>     \n",
       "</tr>\n",
       "</table>\n",
       "<table class=\"simpletable\">\n",
       "<tr>\n",
       "        <td></td>           <th>coef</th>     <th>std err</th>      <th>t</th>      <th>P>|t|</th>  <th>[0.025</th>    <th>0.975]</th>  \n",
       "</tr>\n",
       "<tr>\n",
       "  <th>const</th>         <td>-2.408e+07</td> <td> 1.81e+06</td> <td>  -13.279</td> <td> 0.000</td> <td>-2.76e+07</td> <td>-2.05e+07</td>\n",
       "</tr>\n",
       "<tr>\n",
       "  <th>issueddate_yr</th> <td>  1.21e+04</td> <td>  902.948</td> <td>   13.397</td> <td> 0.000</td> <td> 1.03e+04</td> <td> 1.39e+04</td>\n",
       "</tr>\n",
       "</table>\n",
       "<table class=\"simpletable\">\n",
       "<tr>\n",
       "  <th>Omnibus:</th>       <td>148545.400</td> <th>  Durbin-Watson:     </th>     <td>   1.959</td>    \n",
       "</tr>\n",
       "<tr>\n",
       "  <th>Prob(Omnibus):</th>   <td> 0.000</td>   <th>  Jarque-Bera (JB):  </th> <td>338273834325.027</td>\n",
       "</tr>\n",
       "<tr>\n",
       "  <th>Skew:</th>            <td>118.400</td>  <th>  Prob(JB):          </th>     <td>    0.00</td>    \n",
       "</tr>\n",
       "<tr>\n",
       "  <th>Kurtosis:</th>       <td>15125.635</td> <th>  Cond. No.          </th>     <td>8.80e+05</td>    \n",
       "</tr>\n",
       "</table><br/><br/>Warnings:<br/>[1] Standard Errors assume that the covariance matrix of the errors is correctly specified.<br/>[2] The condition number is large, 8.8e+05. This might indicate that there are<br/>strong multicollinearity or other numerical problems."
      ],
      "text/plain": [
       "<class 'statsmodels.iolib.summary.Summary'>\n",
       "\"\"\"\n",
       "                            OLS Regression Results                            \n",
       "==============================================================================\n",
       "Dep. Variable:         estprojectcost   R-squared:                       0.005\n",
       "Model:                            OLS   Adj. R-squared:                  0.005\n",
       "Method:                 Least Squares   F-statistic:                     179.5\n",
       "Date:                Wed, 28 Nov 2018   Prob (F-statistic):           7.93e-41\n",
       "Time:                        07:48:19   Log-Likelihood:            -5.3185e+05\n",
       "No. Observations:               35491   AIC:                         1.064e+06\n",
       "Df Residuals:                   35489   BIC:                         1.064e+06\n",
       "Df Model:                           1                                         \n",
       "Covariance Type:            nonrobust                                         \n",
       "=================================================================================\n",
       "                    coef    std err          t      P>|t|      [0.025      0.975]\n",
       "---------------------------------------------------------------------------------\n",
       "const         -2.408e+07   1.81e+06    -13.279      0.000   -2.76e+07   -2.05e+07\n",
       "issueddate_yr   1.21e+04    902.948     13.397      0.000    1.03e+04    1.39e+04\n",
       "==============================================================================\n",
       "Omnibus:                   148545.400   Durbin-Watson:                   1.959\n",
       "Prob(Omnibus):                  0.000   Jarque-Bera (JB):     338273834325.027\n",
       "Skew:                         118.400   Prob(JB):                         0.00\n",
       "Kurtosis:                   15125.635   Cond. No.                     8.80e+05\n",
       "==============================================================================\n",
       "\n",
       "Warnings:\n",
       "[1] Standard Errors assume that the covariance matrix of the errors is correctly specified.\n",
       "[2] The condition number is large, 8.8e+05. This might indicate that there are\n",
       "strong multicollinearity or other numerical problems.\n",
       "\"\"\""
      ]
     },
     "execution_count": 98,
     "metadata": {},
     "output_type": "execute_result"
    }
   ],
   "source": [
    "#add a constant to complete the linear model\n",
    "ind = sm.add_constant(ind)\n",
    "\n",
    "reg = sm.OLS(dep, ind).fit()\n",
    "reg.summary()"
   ]
  },
  {
   "cell_type": "markdown",
   "metadata": {},
   "source": [
    "#### Above is the output from a linear regression model using permit issue year as a predictor for estimated project cost. I added a constant term to the model to complete the linear structure, in the output we can see that both the constant term and independent variable are good predictors of estimated project cost due to the p values given in the output. However, the standard error is also quite large for the constant term, and the model has a considerably low R square. Additionally, a warnig given notes that there is likely multicollinearity between the dependent and independent variable. I believe the problems with fit of the model can be as least partially attributed to the strong outliers in the estimated project cost feature, the multicollinearity within the model should be investigated further as it violates the assumptions of OLS regression. While the model is not yet perfect, there is a significant linear relationship between issue date year and estimated project cost."
   ]
  }
 ],
 "metadata": {
  "kernelspec": {
   "display_name": "Python 3",
   "language": "python",
   "name": "python3"
  },
  "language_info": {
   "codemirror_mode": {
    "name": "ipython",
    "version": 3
   },
   "file_extension": ".py",
   "mimetype": "text/x-python",
   "name": "python",
   "nbconvert_exporter": "python",
   "pygments_lexer": "ipython3",
   "version": "3.7.0"
  }
 },
 "nbformat": 4,
 "nbformat_minor": 2
}
